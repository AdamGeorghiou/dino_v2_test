{
 "cells": [
  {
   "attachments": {},
   "cell_type": "markdown",
   "metadata": {},
   "source": [
    "load the huggingface model, dinov2 uses patches so mean pool token embeddings into single vector, then use L2 norm so we can do cosine similarity with faiss\n"
   ]
  },
  {
   "cell_type": "code",
   "execution_count": 12,
   "metadata": {},
   "outputs": [
    {
     "name": "stderr",
     "output_type": "stream",
     "text": [
      "/Users/adamgeorghiou/dino_v2_ann/.venv/lib/python3.12/site-packages/tqdm/auto.py:21: TqdmWarning: IProgress not found. Please update jupyter and ipywidgets. See https://ipywidgets.readthedocs.io/en/stable/user_install.html\n",
      "  from .autonotebook import tqdm as notebook_tqdm\n"
     ]
    },
    {
     "name": "stdout",
     "output_type": "stream",
     "text": [
      "Using MPS (Metal) device\n",
      "Initializing model and processor...\n"
     ]
    },
    {
     "name": "stderr",
     "output_type": "stream",
     "text": [
      "Using a slow image processor as `use_fast` is unset and a slow processor was saved with this model. `use_fast=True` will be the default behavior in v4.48, even if the model was saved with a slow processor. This will result in minor differences in outputs. You'll still be able to use a slow processor with `use_fast=False`.\n"
     ]
    },
    {
     "name": "stdout",
     "output_type": "stream",
     "text": [
      "Loading CSV...\n",
      "CSV loaded with 809 rows\n"
     ]
    },
    {
     "name": "stderr",
     "output_type": "stream",
     "text": [
      "Processing images:   0%|          | 0/809 [00:00<?, ?it/s]/Users/adamgeorghiou/dino_v2_ann/.venv/lib/python3.12/site-packages/transformers/image_processing_utils.py:41: UserWarning: The following named arguments are not valid for `BitImageProcessor.preprocess` and were ignored: 'padding'\n",
      "  return self.preprocess(images, **kwargs)\n",
      "Processing images: 100%|██████████| 809/809 [00:47<00:00, 16.95it/s]\n"
     ]
    },
    {
     "name": "stdout",
     "output_type": "stream",
     "text": [
      "\n",
      "Saving results...\n",
      "✅ Embeddings saved to /Users/adamgeorghiou/dino_v2_ann/pokemon_with_embeddings.csv\n"
     ]
    }
   ],
   "source": [
    "import torch\n",
    "import os\n",
    "import pandas as pd\n",
    "import json\n",
    "from transformers import AutoImageProcessor, AutoModel\n",
    "from PIL import Image\n",
    "from tqdm import tqdm\n",
    "\n",
    "# Set up MPS device if available\n",
    "if torch.backends.mps.is_available():\n",
    "    device = torch.device(\"mps\")\n",
    "    print(\"Using MPS (Metal) device\")\n",
    "else:\n",
    "    device = torch.device(\"cpu\")\n",
    "    print(\"MPS device not found, using CPU\")\n",
    "\n",
    "def get_image_embedding(image_path, processor, model):\n",
    "    \"\"\"\n",
    "    Given an image file path, returns a single, L2-normalized embedding vector.\n",
    "    \"\"\"\n",
    "    try:\n",
    "        image = Image.open(image_path).convert(\"RGB\").resize((224, 224))\n",
    "        inputs = processor(images=image, return_tensors=\"pt\", padding=True)\n",
    "        \n",
    "        # Move inputs to the same device as model\n",
    "        inputs = {k: v.to(device) for k, v in inputs.items()}\n",
    "        \n",
    "        with torch.no_grad():\n",
    "            outputs = model(**inputs)\n",
    "        token_embeddings = outputs.last_hidden_state.squeeze(0)\n",
    "        pooled_embedding = token_embeddings.mean(dim=0)\n",
    "        normalized_embedding = pooled_embedding / pooled_embedding.norm(p=2)\n",
    "        return normalized_embedding\n",
    "    except Exception as e:\n",
    "        print(f\"❌ Error processing image {image_path}: {e}\")\n",
    "        return None\n",
    "\n",
    "# Initialize model and processor\n",
    "print(\"Initializing model and processor...\")\n",
    "processor = AutoImageProcessor.from_pretrained('facebook/dinov2-base')\n",
    "model = AutoModel.from_pretrained('facebook/dinov2-base')\n",
    "model = model.to(device)  # Move model to MPS device\n",
    "model.eval()\n",
    "\n",
    "# Rest of your code remains the same...\n",
    "print(\"Loading CSV...\")\n",
    "csv_path = \"/Users/adamgeorghiou/dino_v2_ann/pokemon.csv\"\n",
    "df = pd.read_csv(csv_path)\n",
    "print(\"CSV loaded with\", len(df), \"rows\")\n",
    "\n",
    "images_dir = \"/Users/adamgeorghiou/dino_v2_ann/images\"\n",
    "embeddings_list = []\n",
    "\n",
    "for idx, row in tqdm(df.iterrows(), total=len(df), desc=\"Processing images\"):\n",
    "    name = row['Name']\n",
    "    possible_files = [f\"{name}.jpg\", f\"{name}.jpeg\", f\"{name}.png\"]\n",
    "    image_path = None\n",
    "    \n",
    "    for file in possible_files:\n",
    "        candidate = os.path.join(images_dir, file)\n",
    "        if os.path.exists(candidate):\n",
    "            image_path = candidate\n",
    "            break\n",
    "            \n",
    "    if image_path is None:\n",
    "        print(f\"\\nImage for '{name}' not found.\")\n",
    "        embeddings_list.append(None)\n",
    "    else:\n",
    "        try:\n",
    "            embedding = get_image_embedding(image_path, processor, model)\n",
    "            if embedding is not None:\n",
    "                embedding_list = embedding.cpu().numpy().tolist()\n",
    "                embeddings_list.append(embedding_list)\n",
    "            else:\n",
    "                embeddings_list.append(None)\n",
    "        except Exception as e:\n",
    "            print(f\"\\nError processing {name}: {e}\")\n",
    "            embeddings_list.append(None)\n",
    "\n",
    "print(\"\\nSaving results...\")\n",
    "df[\"embedding\"] = embeddings_list\n",
    "df[\"embedding_str\"] = df[\"embedding\"].apply(lambda x: json.dumps(x) if x is not None else \"\")\n",
    "\n",
    "output_csv_path = \"/Users/adamgeorghiou/dino_v2_ann/pokemon_with_embeddings.csv\"\n",
    "df.to_csv(output_csv_path, index=False)\n",
    "print(\"✅ Embeddings saved to\", output_csv_path)"
   ]
  },
  {
   "attachments": {},
   "cell_type": "markdown",
   "metadata": {},
   "source": [
    "when embeddings are saved -> we can now run ann using faiss, we find the approx near neighbour, can use knn for exact distance with small dataset, with faiss can play around with this line 'ndex = faiss.IndexFlatIP(embedding_dim)\" for different index types check docs. f"
   ]
  },
  {
   "cell_type": "code",
   "execution_count": 2,
   "metadata": {},
   "outputs": [
    {
     "name": "stdout",
     "output_type": "stream",
     "text": [
      "Embeddings shape: (809, 768)\n",
      "Number of embeddings in index: 809\n",
      "Top-k search results:\n",
      "Rank 1: Name = electrode, Distance = 1.000000238418579\n",
      "Rank 2: Name = voltorb, Distance = 0.9473824501037598\n",
      "Rank 3: Name = munna, Distance = 0.919330894947052\n"
     ]
    },
    {
     "data": {
      "image/png": "[encoded data removed]",
      "text/plain": [
       "<Figure size 1500x500 with 3 Axes>"
      ]
     },
     "metadata": {},
     "output_type": "display_data"
    }
   ],
   "source": [
    "import os\n",
    "import numpy as np\n",
    "import pandas as pd\n",
    "import json\n",
    "import faiss\n",
    "import matplotlib.pyplot as plt\n",
    "from PIL import Image\n",
    "\n",
    "# load csv\n",
    "csv_path = \"/Users/adamgeorghiou/dino_v2_ann/pokemon_with_embeddings.csv\"\n",
    "df = pd.read_csv(csv_path)\n",
    "\n",
    "def decode_embedding(emb_str):\n",
    "    return json.loads(emb_str) if emb_str and isinstance(emb_str, str) else None\n",
    "\n",
    "df['embedding'] = df['embedding_str'].apply(decode_embedding)\n",
    "df_embeddings = df[df['embedding'].notnull()].copy()\n",
    "\n",
    "# stack embeddings as numpy array\n",
    "embeddings = np.array(df_embeddings['embedding'].tolist(), dtype=np.float32)\n",
    "print(\"Embeddings shape:\", embeddings.shape)\n",
    "\n",
    "# inner product since embeddings are L2-normalized (cosine similarity)\n",
    "embedding_dim = embeddings.shape[1]\n",
    "index = faiss.IndexFlatIP(embedding_dim)\n",
    "index.add(embeddings)\n",
    "print(\"Number of embeddings in index:\", index.ntotal)\n",
    "\n",
    "# query the faiss index\n",
    "def query_index(query_embedding, top_k=3):\n",
    "    query_embedding = np.array(query_embedding, dtype=np.float32).reshape(1, -1)\n",
    "    distances, indices = index.search(query_embedding, top_k)\n",
    "    return distances, indices\n",
    "\n",
    "# Query example (100 is the index of the query image)\n",
    "query_embedding = embeddings[100]\n",
    "top_k = 3\n",
    "distances, indices = query_index(query_embedding, top_k)\n",
    "\n",
    "print(\"Top-k search results:\")\n",
    "for rank, idx in enumerate(indices[0]):\n",
    "    row = df_embeddings.iloc[idx]\n",
    "    print(f\"Rank {rank+1}: Name = {row['Name']}, Distance = {distances[0][rank]}\")\n",
    "\n",
    "# Visualize results\n",
    "images_dir = \"/Users/adamgeorghiou/dino_v2_ann/images\"\n",
    "plt.figure(figsize=(15, 5))\n",
    "\n",
    "for i, idx in enumerate(indices[0]):\n",
    "    row = df_embeddings.iloc[idx]\n",
    "    name = row['Name']\n",
    "    image_path = None\n",
    "    \n",
    "    for ext in [\".jpg\", \".jpeg\", \".png\"]:\n",
    "        candidate = os.path.join(images_dir, name + ext)\n",
    "        if os.path.exists(candidate):\n",
    "            image_path = candidate\n",
    "            break\n",
    "    \n",
    "    if image_path is None:\n",
    "        print(f\"Image for '{name}' not found.\")\n",
    "        continue\n",
    "        \n",
    "    image = Image.open(image_path).convert(\"RGB\")\n",
    "    plt.subplot(1, top_k, i+1)\n",
    "    plt.imshow(image)\n",
    "    plt.title(f\"Rank {i+1}\\n{name}\")\n",
    "    plt.axis(\"off\")\n",
    "\n",
    "plt.tight_layout()\n",
    "plt.show()"
   ]
  }
 ],
 "metadata": {
  "kernelspec": {
   "display_name": ".venv",
   "language": "python",
   "name": "python3"
  },
  "language_info": {
   "codemirror_mode": {
    "name": "ipython",
    "version": 3
   },
   "file_extension": ".py",
   "mimetype": "text/x-python",
   "name": "python",
   "nbconvert_exporter": "python",
   "pygments_lexer": "ipython3",
   "version": "3.12.2"
  },
  "orig_nbformat": 4
 },
 "nbformat": 4,
 "nbformat_minor": 2
}
